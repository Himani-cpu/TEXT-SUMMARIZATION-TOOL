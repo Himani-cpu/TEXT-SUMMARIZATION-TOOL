{
 "cells": [
  {
   "cell_type": "code",
   "execution_count": 1,
   "id": "e426a663",
   "metadata": {},
   "outputs": [
    {
     "name": "stdout",
     "output_type": "stream",
     "text": [
      "Requirement already satisfied: transformers in c:\\users\\dines\\anaconda3\\lib\\site-packages (4.24.0)\n",
      "Requirement already satisfied: sumy in c:\\users\\dines\\anaconda3\\lib\\site-packages (0.11.0)\n",
      "Requirement already satisfied: nltk in c:\\users\\dines\\anaconda3\\lib\\site-packages (3.7)\n",
      "Requirement already satisfied: torch in c:\\users\\dines\\anaconda3\\lib\\site-packages (2.6.0)\n",
      "Requirement already satisfied: requests in c:\\users\\dines\\anaconda3\\lib\\site-packages (from transformers) (2.28.1)\n",
      "Requirement already satisfied: filelock in c:\\users\\dines\\anaconda3\\lib\\site-packages (from transformers) (3.9.0)\n",
      "Requirement already satisfied: numpy>=1.17 in c:\\users\\dines\\anaconda3\\lib\\site-packages (from transformers) (1.23.5)\n",
      "Requirement already satisfied: packaging>=20.0 in c:\\users\\dines\\anaconda3\\lib\\site-packages (from transformers) (22.0)\n",
      "Requirement already satisfied: huggingface-hub<1.0,>=0.10.0 in c:\\users\\dines\\anaconda3\\lib\\site-packages (from transformers) (0.10.1)\n",
      "Requirement already satisfied: regex!=2019.12.17 in c:\\users\\dines\\anaconda3\\lib\\site-packages (from transformers) (2022.7.9)\n",
      "Requirement already satisfied: tokenizers!=0.11.3,<0.14,>=0.11.1 in c:\\users\\dines\\anaconda3\\lib\\site-packages (from transformers) (0.11.4)\n",
      "Requirement already satisfied: pyyaml>=5.1 in c:\\users\\dines\\anaconda3\\lib\\site-packages (from transformers) (6.0)\n",
      "Requirement already satisfied: tqdm>=4.27 in c:\\users\\dines\\anaconda3\\lib\\site-packages (from transformers) (4.64.1)\n",
      "Requirement already satisfied: breadability>=0.1.20 in c:\\users\\dines\\anaconda3\\lib\\site-packages (from sumy) (0.1.20)\n",
      "Requirement already satisfied: pycountry>=18.2.23 in c:\\users\\dines\\anaconda3\\lib\\site-packages (from sumy) (24.6.1)\n",
      "Requirement already satisfied: docopt<0.7,>=0.6.1 in c:\\users\\dines\\anaconda3\\lib\\site-packages (from sumy) (0.6.2)\n",
      "Requirement already satisfied: click in c:\\users\\dines\\anaconda3\\lib\\site-packages (from nltk) (8.0.4)\n",
      "Requirement already satisfied: joblib in c:\\users\\dines\\anaconda3\\lib\\site-packages (from nltk) (1.1.1)\n",
      "Requirement already satisfied: sympy==1.13.1 in c:\\users\\dines\\anaconda3\\lib\\site-packages (from torch) (1.13.1)\n",
      "Requirement already satisfied: typing-extensions>=4.10.0 in c:\\users\\dines\\anaconda3\\lib\\site-packages (from torch) (4.13.2)\n",
      "Requirement already satisfied: fsspec in c:\\users\\dines\\anaconda3\\lib\\site-packages (from torch) (2022.11.0)\n",
      "Requirement already satisfied: networkx in c:\\users\\dines\\anaconda3\\lib\\site-packages (from torch) (2.8.4)\n",
      "Requirement already satisfied: jinja2 in c:\\users\\dines\\anaconda3\\lib\\site-packages (from torch) (3.1.2)\n",
      "Requirement already satisfied: mpmath<1.4,>=1.1.0 in c:\\users\\dines\\anaconda3\\lib\\site-packages (from sympy==1.13.1->torch) (1.2.1)\n",
      "Requirement already satisfied: lxml>=2.0 in c:\\users\\dines\\anaconda3\\lib\\site-packages (from breadability>=0.1.20->sumy) (4.9.1)\n",
      "Requirement already satisfied: chardet in c:\\users\\dines\\anaconda3\\lib\\site-packages (from breadability>=0.1.20->sumy) (4.0.0)\n",
      "Requirement already satisfied: charset-normalizer<3,>=2 in c:\\users\\dines\\anaconda3\\lib\\site-packages (from requests->transformers) (2.0.4)\n",
      "Requirement already satisfied: certifi>=2017.4.17 in c:\\users\\dines\\anaconda3\\lib\\site-packages (from requests->transformers) (2023.5.7)\n",
      "Requirement already satisfied: idna<4,>=2.5 in c:\\users\\dines\\anaconda3\\lib\\site-packages (from requests->transformers) (3.4)\n",
      "Requirement already satisfied: urllib3<1.27,>=1.21.1 in c:\\users\\dines\\anaconda3\\lib\\site-packages (from requests->transformers) (1.26.14)\n",
      "Requirement already satisfied: colorama in c:\\users\\dines\\anaconda3\\lib\\site-packages (from tqdm>=4.27->transformers) (0.4.6)\n",
      "Requirement already satisfied: MarkupSafe>=2.0 in c:\\users\\dines\\anaconda3\\lib\\site-packages (from jinja2->torch) (2.1.1)\n"
     ]
    }
   ],
   "source": [
    "!pip install transformers sumy nltk torch"
   ]
  },
  {
   "cell_type": "code",
   "execution_count": 2,
   "id": "b91ddef3",
   "metadata": {},
   "outputs": [
    {
     "name": "stderr",
     "output_type": "stream",
     "text": [
      "[nltk_data] Downloading package punkt to\n",
      "[nltk_data]     C:\\Users\\dines\\AppData\\Roaming\\nltk_data...\n",
      "[nltk_data]   Package punkt is already up-to-date!\n"
     ]
    },
    {
     "data": {
      "text/plain": [
       "True"
      ]
     },
     "execution_count": 2,
     "metadata": {},
     "output_type": "execute_result"
    }
   ],
   "source": [
    "from transformers import T5ForConditionalGeneration, T5Tokenizer\n",
    "from sumy.summarizers.text_rank import TextRankSummarizer\n",
    "from sumy.parsers.plaintext import PlaintextParser\n",
    "from sumy.nlp.tokenizers import Tokenizer\n",
    "import nltk\n",
    "\n",
    "nltk.download('punkt')"
   ]
  },
  {
   "cell_type": "code",
   "execution_count": 5,
   "id": "d3caab18",
   "metadata": {},
   "outputs": [],
   "source": [
    "model = T5ForConditionalGeneration.from_pretrained(\"t5-small\")\n",
    "tokenizer = T5Tokenizer.from_pretrained(\"t5-small\")"
   ]
  },
  {
   "cell_type": "code",
   "execution_count": 3,
   "id": "522e5e7b",
   "metadata": {},
   "outputs": [
    {
     "name": "stdout",
     "output_type": "stream",
     "text": [
      "Requirement already satisfied: sentencepiece in c:\\users\\dines\\anaconda3\\lib\\site-packages (0.2.0)\n",
      "Note: you may need to restart the kernel to use updated packages.\n"
     ]
    }
   ],
   "source": [
    "pip install sentencepiece"
   ]
  },
  {
   "cell_type": "code",
   "execution_count": 7,
   "id": "db87dfe0",
   "metadata": {},
   "outputs": [],
   "source": [
    "def summarize_t5(text, max_length=150, min_length=40):\n",
    "    input_text = \"summarize: \" + text.strip().replace(\"\\n\", \" \")\n",
    "    tokens_input = tokenizer.encode(input_text, return_tensors=\"pt\", max_length=512, truncation=True)\n",
    "    summary_ids = model.generate(tokens_input, max_length=max_length, min_length=min_length, length_penalty=2.0, num_beams=4)\n",
    "    summary = tokenizer.decode(summary_ids[0], skip_special_tokens=True)\n",
    "    return summary\n"
   ]
  },
  {
   "cell_type": "code",
   "execution_count": 8,
   "id": "c264037f",
   "metadata": {},
   "outputs": [],
   "source": [
    "def summarize_textrank(text, sentence_count=3):\n",
    "    parser = PlaintextParser.from_string(text, Tokenizer(\"english\"))\n",
    "    summarizer = TextRankSummarizer()\n",
    "    summary = summarizer(parser.document, sentence_count)\n",
    "    return ' '.join([str(sentence) for sentence in summary])"
   ]
  },
  {
   "cell_type": "code",
   "execution_count": 9,
   "id": "e057cf6d",
   "metadata": {},
   "outputs": [
    {
     "name": "stdout",
     "output_type": "stream",
     "text": [
      "🔹 T5 Summary:\n",
      " artificial intelligence refers to the simulation of human intelligence in machines that are programmed to think and learn like humans. these processes include learning, reasoning, problem-solving, perception, and language understanding. AI is used in various sectors such as healthcare, finance, education, and transportation, enhancing efficiency and enabling innovations. there are different types of AI including narrow AI, which is designed for a specific task, and general AI, which can perform any intellectual task that a human can.\n",
      "\n",
      "🔹 TextRank Summary:\n",
      " Artificial Intelligence (AI) refers to the simulation of human intelligence in machines that are programmed to think and learn like humans. AI is used in various sectors such as healthcare, finance, education, and transportation, enhancing efficiency and enabling innovations. There are different types of AI including narrow AI, which is designed for a specific task, and general AI, which can perform any intellectual task that a human can.\n"
     ]
    }
   ],
   "source": [
    "long_text = \"\"\"\n",
    "Artificial Intelligence (AI) refers to the simulation of human intelligence in machines that are programmed to think and learn like humans. \n",
    "These processes include learning, reasoning, problem-solving, perception, and language understanding. AI is used in various sectors such as healthcare, \n",
    "finance, education, and transportation, enhancing efficiency and enabling innovations. There are different types of AI including narrow AI, which is \n",
    "designed for a specific task, and general AI, which can perform any intellectual task that a human can. AI technologies include machine learning, \n",
    "deep learning, natural language processing, and robotics.\n",
    "\"\"\"\n",
    "\n",
    "print(\"🔹 T5 Summary:\\n\", summarize_t5(long_text))\n",
    "print(\"\\n🔹 TextRank Summary:\\n\", summarize_textrank(long_text))"
   ]
  }
 ],
 "metadata": {
  "kernelspec": {
   "display_name": "Python 3 (ipykernel)",
   "language": "python",
   "name": "python3"
  },
  "language_info": {
   "codemirror_mode": {
    "name": "ipython",
    "version": 3
   },
   "file_extension": ".py",
   "mimetype": "text/x-python",
   "name": "python",
   "nbconvert_exporter": "python",
   "pygments_lexer": "ipython3",
   "version": "3.10.9"
  }
 },
 "nbformat": 4,
 "nbformat_minor": 5
}
